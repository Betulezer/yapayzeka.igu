{
  "nbformat": 4,
  "nbformat_minor": 0,
  "metadata": {
    "colab": {
      "provenance": []
    },
    "kernelspec": {
      "name": "python3",
      "display_name": "Python 3"
    },
    "language_info": {
      "name": "python"
    }
  },
  "cells": [
    {
      "cell_type": "markdown",
      "source": [
        "igu myo yz ders 30,09,2024-ders notu\n",
        "\n",
        "betül ezer"
      ],
      "metadata": {
        "id": "Rbw_TRlhCHRL"
      }
    },
    {
      "cell_type": "code",
      "execution_count": 7,
      "metadata": {
        "colab": {
          "base_uri": "https://localhost:8080/"
        },
        "id": "lsr69zdHA0ax",
        "outputId": "c32d2558-e529-47a0-af34-27e793c9f180"
      },
      "outputs": [
        {
          "output_type": "stream",
          "name": "stdout",
          "text": [
            "nerhaba ıgu myo yz\n",
            "3.10.12 (main, Sep 11 2024, 15:47:36) [GCC 11.4.0]\n",
            "Mounted at /content/drive\n"
          ]
        }
      ],
      "source": [
        "print(\"nerhaba ıgu myo yz\") #ilk python programı çıktısıdır.\n",
        "import sys #import pyhton progralama dilinde yazılıma kütüphane eklemeye yarar\n",
        "print(sys.version)\n",
        "from google.colab import drive #google colab -drive bağlantısı\n",
        "drive.mount('/content/drive')\n",
        "\n"
      ]
    },
    {
      "cell_type": "code",
      "source": [
        "import os\n",
        "\n",
        "os.chdir('/content/drive/My Drive/YZIGU')\n",
        "!pwd #bize kodun çıktısını dosya yolu olarak veren kod blogudur."
      ],
      "metadata": {
        "colab": {
          "base_uri": "https://localhost:8080/"
        },
        "id": "b8-POHmqHXi4",
        "outputId": "afa4d36d-a8b2-4f5e-c53b-b1d8f0dfc42e"
      },
      "execution_count": 9,
      "outputs": [
        {
          "output_type": "stream",
          "name": "stdout",
          "text": [
            "/content/drive/My Drive/YZIGU\n"
          ]
        }
      ]
    }
  ]
}